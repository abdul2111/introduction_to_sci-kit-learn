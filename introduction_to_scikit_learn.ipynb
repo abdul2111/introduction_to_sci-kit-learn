{
 "cells": [
  {
   "cell_type": "markdown",
   "id": "da460297-3163-4583-8467-e4d4bc1833de",
   "metadata": {},
   "source": [
    "#Introduction to scikit learn(sklearn)\n",
    "this notebokk demonstrates some of the most useful functions of the beautiful Scikit-learn library.\n",
    "\n",
    "what we're going to cover:\n",
    "\n",
    "0. an end-to-end Scikit-learn workflow\n",
    "1. getting the data ready\n",
    "2. choose the right estimator/algorithm for our problems\n",
    "3. fit the model/algrithm and use it to male predictions on our data\n",
    "4. evaluating a model\n",
    "5. improve a model\n",
    "6. save and load a trained model\n",
    "7. put it all together!"
   ]
  }
 ],
 "metadata": {
  "kernelspec": {
   "display_name": "Python 3 (ipykernel)",
   "language": "python",
   "name": "python3"
  },
  "language_info": {
   "codemirror_mode": {
    "name": "ipython",
    "version": 3
   },
   "file_extension": ".py",
   "mimetype": "text/x-python",
   "name": "python",
   "nbconvert_exporter": "python",
   "pygments_lexer": "ipython3",
   "version": "3.10.13"
  }
 },
 "nbformat": 4,
 "nbformat_minor": 5
}
